{
 "cells": [
  {
   "cell_type": "code",
   "execution_count": 41,
   "id": "3294f096",
   "metadata": {},
   "outputs": [],
   "source": [
    "import pandas as pd\n",
    "import matplotlib.pyplot as plt"
   ]
  },
  {
   "cell_type": "code",
   "execution_count": 42,
   "id": "25161d61",
   "metadata": {},
   "outputs": [
    {
     "data": {
      "text/html": [
       "<div>\n",
       "<style scoped>\n",
       "    .dataframe tbody tr th:only-of-type {\n",
       "        vertical-align: middle;\n",
       "    }\n",
       "\n",
       "    .dataframe tbody tr th {\n",
       "        vertical-align: top;\n",
       "    }\n",
       "\n",
       "    .dataframe thead th {\n",
       "        text-align: right;\n",
       "    }\n",
       "</style>\n",
       "<table border=\"1\" class=\"dataframe\">\n",
       "  <thead>\n",
       "    <tr style=\"text-align: right;\">\n",
       "      <th></th>\n",
       "      <th>Site</th>\n",
       "      <th>Brand</th>\n",
       "      <th>Product</th>\n",
       "    </tr>\n",
       "  </thead>\n",
       "  <tbody>\n",
       "    <tr>\n",
       "      <th>0</th>\n",
       "      <td>https://www.musinsa.com/app/goods/2118292</td>\n",
       "      <td>KIRSH</td>\n",
       "      <td>아치 로고 리워크드 스웻셔츠 KA [블랙]</td>\n",
       "    </tr>\n",
       "    <tr>\n",
       "      <th>1</th>\n",
       "      <td>https://www.musinsa.com/app/goods/3353701</td>\n",
       "      <td>NASTY FANCY CLUB</td>\n",
       "      <td>[NF] 러프 셔링 후드 베스트 (NAVY)_F23QB469</td>\n",
       "    </tr>\n",
       "    <tr>\n",
       "      <th>2</th>\n",
       "      <td>https://www.musinsa.com/app/goods/3263407</td>\n",
       "      <td>NASTY FANCY CLUB</td>\n",
       "      <td>[NF] 팬브릿지 크롭 티 (WHITE)_F23QB224</td>\n",
       "    </tr>\n",
       "    <tr>\n",
       "      <th>3</th>\n",
       "      <td>https://www.musinsa.com/app/goods/3296909</td>\n",
       "      <td>NASTY FANCY CLUB</td>\n",
       "      <td>[NF] 페어 크롭 카라 저지 (YELLOW)_F23QB253</td>\n",
       "    </tr>\n",
       "    <tr>\n",
       "      <th>4</th>\n",
       "      <td>https://www.musinsa.com/app/goods/3263399</td>\n",
       "      <td>NASTY FANCY CLUB</td>\n",
       "      <td>[NF] 타이다이 리본 레이어드 티 (WHITE)_F23QB486</td>\n",
       "    </tr>\n",
       "  </tbody>\n",
       "</table>\n",
       "</div>"
      ],
      "text/plain": [
       "                                        Site             Brand  \\\n",
       "0  https://www.musinsa.com/app/goods/2118292             KIRSH   \n",
       "1  https://www.musinsa.com/app/goods/3353701  NASTY FANCY CLUB   \n",
       "2  https://www.musinsa.com/app/goods/3263407  NASTY FANCY CLUB   \n",
       "3  https://www.musinsa.com/app/goods/3296909  NASTY FANCY CLUB   \n",
       "4  https://www.musinsa.com/app/goods/3263399  NASTY FANCY CLUB   \n",
       "\n",
       "                                Product  \n",
       "0               아치 로고 리워크드 스웻셔츠 KA [블랙]  \n",
       "1     [NF] 러프 셔링 후드 베스트 (NAVY)_F23QB469  \n",
       "2       [NF] 팬브릿지 크롭 티 (WHITE)_F23QB224  \n",
       "3    [NF] 페어 크롭 카라 저지 (YELLOW)_F23QB253  \n",
       "4  [NF] 타이다이 리본 레이어드 티 (WHITE)_F23QB486  "
      ]
     },
     "execution_count": 42,
     "metadata": {},
     "output_type": "execute_result"
    }
   ],
   "source": [
    "# Load data\n",
    "data = pd.read_csv('crawl.csv', header=None, sep='\\t')\n",
    "data.columns = ['Site', 'Brand', 'Product']\n",
    "data.head()"
   ]
  },
  {
   "cell_type": "markdown",
   "id": "af52ec2b",
   "metadata": {},
   "source": [
    "This is data from a platform that makes clothes on Korean websites accessible for foreigners\\\n",
    "The data shows products, their brands, and which sites they are from."
   ]
  },
  {
   "cell_type": "markdown",
   "id": "1b59b5ee",
   "metadata": {},
   "source": [
    "### How many clothes have been sold for each brand?"
   ]
  },
  {
   "cell_type": "code",
   "execution_count": 43,
   "id": "3aa3695c",
   "metadata": {},
   "outputs": [
    {
     "name": "stdout",
     "output_type": "stream",
     "text": [
      "CODEGRAPHY    42\n",
      "FALLETT       30\n",
      "MARITHE       29\n",
      "OIOI          28\n",
      "CARLYN        28\n",
      "COVERNAT      22\n",
      "WHATITISNT    20\n",
      "AVANDRESS     19\n",
      "WOOALONG      19\n",
      "SCULPTOR      19\n",
      "Name: Brand, dtype: int64\n"
     ]
    }
   ],
   "source": [
    "# Count the values\n",
    "Brand_counts = data['Brand'].value_counts()\n",
    "# Print top 10\n",
    "print(Brand_counts.head(10))"
   ]
  },
  {
   "cell_type": "markdown",
   "id": "a588f932",
   "metadata": {},
   "source": [
    "### How many clothes have been sold in each site?"
   ]
  },
  {
   "cell_type": "code",
   "execution_count": 44,
   "id": "21ff246e",
   "metadata": {
    "scrolled": true
   },
   "outputs": [
    {
     "data": {
      "text/html": [
       "<div>\n",
       "<style scoped>\n",
       "    .dataframe tbody tr th:only-of-type {\n",
       "        vertical-align: middle;\n",
       "    }\n",
       "\n",
       "    .dataframe tbody tr th {\n",
       "        vertical-align: top;\n",
       "    }\n",
       "\n",
       "    .dataframe thead th {\n",
       "        text-align: right;\n",
       "    }\n",
       "</style>\n",
       "<table border=\"1\" class=\"dataframe\">\n",
       "  <thead>\n",
       "    <tr style=\"text-align: right;\">\n",
       "      <th></th>\n",
       "      <th>Site</th>\n",
       "      <th>Brand</th>\n",
       "      <th>Product</th>\n",
       "    </tr>\n",
       "  </thead>\n",
       "  <tbody>\n",
       "    <tr>\n",
       "      <th>0</th>\n",
       "      <td>www.musinsa.com</td>\n",
       "      <td>KIRSH</td>\n",
       "      <td>아치 로고 리워크드 스웻셔츠 KA [블랙]</td>\n",
       "    </tr>\n",
       "    <tr>\n",
       "      <th>1</th>\n",
       "      <td>www.musinsa.com</td>\n",
       "      <td>NASTY FANCY CLUB</td>\n",
       "      <td>[NF] 러프 셔링 후드 베스트 (NAVY)_F23QB469</td>\n",
       "    </tr>\n",
       "    <tr>\n",
       "      <th>2</th>\n",
       "      <td>www.musinsa.com</td>\n",
       "      <td>NASTY FANCY CLUB</td>\n",
       "      <td>[NF] 팬브릿지 크롭 티 (WHITE)_F23QB224</td>\n",
       "    </tr>\n",
       "    <tr>\n",
       "      <th>3</th>\n",
       "      <td>www.musinsa.com</td>\n",
       "      <td>NASTY FANCY CLUB</td>\n",
       "      <td>[NF] 페어 크롭 카라 저지 (YELLOW)_F23QB253</td>\n",
       "    </tr>\n",
       "    <tr>\n",
       "      <th>4</th>\n",
       "      <td>www.musinsa.com</td>\n",
       "      <td>NASTY FANCY CLUB</td>\n",
       "      <td>[NF] 타이다이 리본 레이어드 티 (WHITE)_F23QB486</td>\n",
       "    </tr>\n",
       "  </tbody>\n",
       "</table>\n",
       "</div>"
      ],
      "text/plain": [
       "              Site             Brand                               Product\n",
       "0  www.musinsa.com             KIRSH               아치 로고 리워크드 스웻셔츠 KA [블랙]\n",
       "1  www.musinsa.com  NASTY FANCY CLUB     [NF] 러프 셔링 후드 베스트 (NAVY)_F23QB469\n",
       "2  www.musinsa.com  NASTY FANCY CLUB       [NF] 팬브릿지 크롭 티 (WHITE)_F23QB224\n",
       "3  www.musinsa.com  NASTY FANCY CLUB    [NF] 페어 크롭 카라 저지 (YELLOW)_F23QB253\n",
       "4  www.musinsa.com  NASTY FANCY CLUB  [NF] 타이다이 리본 레이어드 티 (WHITE)_F23QB486"
      ]
     },
     "execution_count": 44,
     "metadata": {},
     "output_type": "execute_result"
    }
   ],
   "source": [
    "# Make the values from the same sites identical\n",
    "for index, a in enumerate(data['Site']):\n",
    "    parts = a.split('/')\n",
    "    data.loc[index, 'Site'] = parts[2]\n",
    "\n",
    "data.head()"
   ]
  },
  {
   "cell_type": "code",
   "execution_count": 45,
   "id": "a3b04199",
   "metadata": {},
   "outputs": [
    {
     "name": "stdout",
     "output_type": "stream",
     "text": [
      "www.musinsa.com         561\n",
      "musinsaapp.page.link    164\n",
      "product.29cm.co.kr       45\n",
      "marithe-official.com     29\n",
      "www.carlynmall.com       27\n",
      "Name: Site, dtype: int64\n"
     ]
    }
   ],
   "source": [
    "# Count the values\n",
    "Site_counts = data['Site'].value_counts()\n",
    "print(Site_counts)"
   ]
  },
  {
   "cell_type": "code",
   "execution_count": 46,
   "id": "9889dc5c",
   "metadata": {},
   "outputs": [
    {
     "data": {
      "text/plain": [
       "Text(0, 0.5, 'Number of clothes sold')"
      ]
     },
     "execution_count": 46,
     "metadata": {},
     "output_type": "execute_result"
    },
    {
     "data": {
      "image/png": "[encoded data removed]",
      "text/plain": [
       "<Figure size 1200x500 with 1 Axes>"
      ]
     },
     "metadata": {},
     "output_type": "display_data"
    }
   ],
   "source": [
    "plt.figure(figsize=(12,5))\n",
    "plt.bar(Site_counts.index, Site_counts.values)\n",
    "plt.title('How many clothes have been sold in each site?')\n",
    "plt.xlabel('Sites')\n",
    "plt.ylabel('Number of clothes sold')"
   ]
  },
  {
   "cell_type": "markdown",
   "id": "749eaced",
   "metadata": {},
   "source": [
    "### Export the modified data"
   ]
  },
  {
   "cell_type": "code",
   "execution_count": 29,
   "id": "3adda2d3",
   "metadata": {},
   "outputs": [],
   "source": [
    "data.to_csv('crawl_modified.csv', index=False)"
   ]
  }
 ],
 "metadata": {
  "kernelspec": {
   "display_name": "Python 3 (ipykernel)",
   "language": "python",
   "name": "python3"
  },
  "language_info": {
   "codemirror_mode": {
    "name": "ipython",
    "version": 3
   },
   "file_extension": ".py",
   "mimetype": "text/x-python",
   "name": "python",
   "nbconvert_exporter": "python",
   "pygments_lexer": "ipython3",
   "version": "3.11.3"
  }
 },
 "nbformat": 4,
 "nbformat_minor": 5
}
